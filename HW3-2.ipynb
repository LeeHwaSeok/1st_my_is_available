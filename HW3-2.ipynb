{
 "cells": [
  {
   "cell_type": "code",
   "execution_count": 5,
   "id": "32c6654c",
   "metadata": {},
   "outputs": [
    {
     "name": "stdout",
     "output_type": "stream",
     "text": [
      "13\n",
      "거짓\n"
     ]
    }
   ],
   "source": [
    "#파이썬 프로그래밍 기초 실습 3-2\n",
    "#문제 1) 입력한 숫자가 2의 배수 또는 3의 배수면 참, 아니면 거짓을 출력하세요\n",
    "multiple = int(input(''))\n",
    "if (multiple % 2 == 0) or (multiple % 3 ==0) :\n",
    "    print('참')\n",
    "else :\n",
    "    print('거짓')"
   ]
  },
  {
   "cell_type": "code",
   "execution_count": 6,
   "id": "72629055",
   "metadata": {},
   "outputs": [
    {
     "name": "stdout",
     "output_type": "stream",
     "text": [
      "키 입력 180\n",
      "몸무게 입력 76\n",
      "몸무게는 23.46\n",
      "과체중\n"
     ]
    }
   ],
   "source": [
    "#문제 2) 키와 몸무게를 입력 받아서 비만도 BMI를 측정하는 프로그램을 작성하세요.\n",
    "# BMI = 몸무게÷(키×키)\n",
    "# 단위: 몸무게(kg), 키(m)\n",
    "# BMI 지수가\n",
    "# - 18.5미만: 저체중\n",
    "# - 18.5이상 23미만: 정상체중\n",
    "# - 23이상 25미만: 과체중\n",
    "# - 25이상 30미만: 경도비만\n",
    "# - 30이상: 비만\n",
    "\n",
    "cm = int(input('키 입력 '))\n",
    "kg = int(input('몸무게 입력 '))\n",
    "bmi = (kg / cm**2) * 100**2\n",
    "print('몸무게는 %.2f' %bmi)\n",
    "\n",
    "if bmi >= 30 :\n",
    "    print('비만')\n",
    "elif bmi >= 25 :\n",
    "    print('경도비만')\n",
    "elif bmi >= 23 :\n",
    "    print('과체중')\n",
    "elif bmi >= 18.5 :\n",
    "    print('정상체중')\n",
    "else :\n",
    "    print('저체중')"
   ]
  },
  {
   "cell_type": "code",
   "execution_count": 7,
   "id": "47d1f8c6",
   "metadata": {},
   "outputs": [
    {
     "name": "stdout",
     "output_type": "stream",
     "text": [
      "수? 180\n",
      "1\n",
      "2\n",
      "3\n",
      "4\n",
      "5\n",
      "6\n",
      "9\n",
      "10\n",
      "12\n",
      "15\n",
      "18\n",
      "20\n",
      "30\n",
      "36\n",
      "45\n",
      "60\n",
      "90\n",
      "180\n",
      "\n",
      "약수의 1개수는 18\n"
     ]
    }
   ],
   "source": [
    "#문제 3) 양의 정수를 입력 받아서 그 수의 약수를 모두 출력하고 약수의 개수도 출력하시오.\n",
    "# - 약수: 어떤 수를 나누었을 때 나누어 떨어지게 하는 수를 어떤 수의 약수라고 한다. \n",
    "# 즉 n의 약수는 1부터 n까지의 수로 n을 나누어 떨어지게 하는 수가 된다.\n",
    "\n",
    "num = int(input(\"수? \"))\n",
    "nums =0\n",
    "for i in range(1, num+1):\n",
    "    if num % i == 0:\n",
    "        print(i)\n",
    "        nums = nums+1\n",
    "print()\n",
    "print('약수의 1개수는 %d' %nums)"
   ]
  },
  {
   "cell_type": "code",
   "execution_count": 8,
   "id": "1e187e44",
   "metadata": {},
   "outputs": [
    {
     "name": "stdout",
     "output_type": "stream",
     "text": [
      "정수 입력180\n",
      "081"
     ]
    }
   ],
   "source": [
    "#문제 4) 입력 받은 양의 정수를 뒤집어 출력하는 프로그램을 작성하시오.\n",
    "x = input('정수 입력')\n",
    "y =[]\n",
    "for z in x:\n",
    "    y.append(z)\n",
    "y.reverse()\n",
    "s = ''\n",
    "\n",
    "for s in y :\n",
    "    print(s,end='')"
   ]
  },
  {
   "cell_type": "code",
   "execution_count": 9,
   "id": "82f92b47",
   "metadata": {},
   "outputs": [
    {
     "name": "stdout",
     "output_type": "stream",
     "text": [
      "정수 입력79799\n",
      "41\n"
     ]
    }
   ],
   "source": [
    "#문제 5)입력 받은 양의 정수의 각 자릿수를 더한 값을 출력하는 프로그램을 작성하시오.\n",
    "\n",
    "x = input('정수 입력')\n",
    "sum1 = 0\n",
    "for z in map(int,x):\n",
    "    sum1 = sum1 + z\n",
    "print(sum1)"
   ]
  },
  {
   "cell_type": "code",
   "execution_count": 10,
   "id": "9a8fcb40",
   "metadata": {},
   "outputs": [
    {
     "name": "stdout",
     "output_type": "stream",
     "text": [
      "206\n"
     ]
    }
   ],
   "source": [
    "#문제 6) 주어진 리스트에서 짝수의 합만 구하기\n",
    "numlist = [30, 41, 12, 90, 74, 15]\n",
    "init = 0\n",
    "for x in numlist :\n",
    "    if x%2 == 0 :\n",
    "        init = init+x\n",
    "print(init)"
   ]
  },
  {
   "cell_type": "code",
   "execution_count": 11,
   "id": "adf52523",
   "metadata": {},
   "outputs": [
    {
     "name": "stdout",
     "output_type": "stream",
     "text": [
      "90\n"
     ]
    }
   ],
   "source": [
    "#문제 7) 최대값 구하기 (max(), 정렬 함수 등 사용 x)\n",
    "numlist = [30, 41, 12, 90, 74, 15]\n",
    "y = 0\n",
    "for x in numlist :\n",
    "    if y < x:\n",
    "        y = x\n",
    "print(y)"
   ]
  },
  {
   "cell_type": "code",
   "execution_count": null,
   "id": "612497cc",
   "metadata": {},
   "outputs": [],
   "source": [
    "#문제 8) 리스트 문제프로그래밍 수업을 듣는 수강생 이름으로 이루어진 리스트Names가 아래와 같이 있을 때, \n",
    "# 수강생 이름을 입력 받아 프로그래밍 수강생인지 알아보는 프로그램을 완성하시오.\n",
    "Names = [\"포닉스\", \"넙죽이\", \"클로바\",\"독수리\"]\n",
    "name = input('')\n",
    "if name in Names :\n",
    "    print(\"수강생입니다.\")\n",
    "else :\n",
    "    print(\"수강생 아닙니다.\")\n",
    "    "
   ]
  },
  {
   "cell_type": "code",
   "execution_count": 14,
   "id": "21f6cc83",
   "metadata": {
    "scrolled": false
   },
   "outputs": [
    {
     "name": "stdout",
     "output_type": "stream",
     "text": [
      "ㅋㅊ1\n",
      "수강생 아닙니다.\n"
     ]
    }
   ],
   "source": [
    "# 문제 9) 딕셔너리 문제자판기 재고량을 아래와 같이 딕셔너리로 관리할 때, 자판기에 채울 음료를 입력 받아서 \n",
    "# 재고량을 증가시키는 자판기 관리 프로그램을 완성하시오. \n",
    "# (아래 실행 예제 2개가 하나의 코드로 실행되도록 작성할 것.)\n",
    "\n",
    "items = { \"커피\": 5, \"콜라\": 3, \"생수\": 2,\"비타민워터\": 1 }\n",
    "item = input(\"채울 음료 이름 입력: \")\n",
    "\n",
    "if item not in items :\n",
    "    print('자판기 목록에 없는 음료입니다.')\n",
    "else :\n",
    "    a = int(input(\"추가할 개수 입력: \"))\n",
    "    items[item] = items[item] + a\n",
    "print(items)\n",
    "\n",
    "  "
   ]
  }
 ],
 "metadata": {
  "kernelspec": {
   "display_name": "Python 3 (ipykernel)",
   "language": "python",
   "name": "python3"
  },
  "language_info": {
   "codemirror_mode": {
    "name": "ipython",
    "version": 3
   },
   "file_extension": ".py",
   "mimetype": "text/x-python",
   "name": "python",
   "nbconvert_exporter": "python",
   "pygments_lexer": "ipython3",
   "version": "3.9.7"
  }
 },
 "nbformat": 4,
 "nbformat_minor": 5
}
