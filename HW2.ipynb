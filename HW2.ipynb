{
 "cells": [
  {
   "cell_type": "markdown",
   "id": "b013d901",
   "metadata": {},
   "source": [
    "# 파이썬 프로그래밍 기초 실습 2\n",
    "## 1 조건문(if)\n",
    "### 문제1) 입력 받은 정수가 짝수인지 홀수인지 판별"
   ]
  },
  {
   "cell_type": "code",
   "execution_count": 14,
   "id": "e1cbd406",
   "metadata": {},
   "outputs": [
    {
     "name": "stdout",
     "output_type": "stream",
     "text": [
      "숫자 입력하세요15\n",
      "입력값 : 15 홀수\n"
     ]
    }
   ],
   "source": [
    "num = int(input(\"숫자 입력하세요\"))\n",
    "quo = num % 2    #Quotient = 몫\n",
    "\n",
    "if quo == 0:     #숫자를 2로 나눈 몫이 0이면 짝수 / 1이면 홀수                      \n",
    "    print(\"입력값 : %d 짝수\" %num)\n",
    "else :\n",
    "    print(\"입력값 : %d 홀수\" %num)"
   ]
  },
  {
   "cell_type": "markdown",
   "id": "3e79fa38",
   "metadata": {},
   "source": [
    "### 문제2) 프로그래밍 과목의 중간고사와 기말고사 점수를 입력 받아 평균과 학점을 구하는 프로그램을 작성하시오.\n",
    "\n",
    "조건 \n",
    "- 평균이 90이상 : A\n",
    "- 80이상~90미만 : B\n",
    "- 70이상~80미만 : C\n",
    "- 60이상~70미만 : D\n",
    "- 60미만 : F"
   ]
  },
  {
   "cell_type": "code",
   "execution_count": 27,
   "id": "34ed9eda",
   "metadata": {},
   "outputs": [
    {
     "name": "stdout",
     "output_type": "stream",
     "text": [
      "중간고사 점수 입력 : 60\n",
      "기말고사 점수 입력 : 60\n",
      "평균은 : 60 \n",
      "학점은 : D\n"
     ]
    }
   ],
   "source": [
    "midterm = int(input(\"중간고사 점수 입력 : \"))\n",
    "finals = int(input(\"기말고사 점수 입력 : \"))\n",
    "\n",
    "avg = (midterm + finals)/2\n",
    "\n",
    "if avg >= 90:\n",
    "    print(\"평균은 : %d \\n학점은 : A\" %avg)\n",
    "elif avg >=80:\n",
    "    print(\"평균은 : %d \\n학점은 : B\" %avg)\n",
    "elif avg >=70:\n",
    "    print(\"평균은 : %d \\n학점은 : C\" %avg)\n",
    "elif avg >=60:\n",
    "    print(\"평균은 : %d \\n학점은 : D\" %avg)\n",
    "else:\n",
    "    print(\"평균은 : %d \\n학점은 : F\" %avg)\n",
    "\n",
    "# 평균과 조건의 점수를 비교하여 학점을 제공합니다.\n"
   ]
  },
  {
   "cell_type": "markdown",
   "id": "4f686a53",
   "metadata": {},
   "source": [
    "### 문제2)  PPT 문제\n",
    "학생수준평가 시험에서 영어 점수와 수학 점수가 합해서\n",
    "110점 이상이면 합격이다. 단, 각 점수가 40점 미만이면\n",
    "불합격이다. 영어(eng), 수학(math)점수를 입력 받아 합\n",
    "격여부를 출력하는 프로그램을 작성하시오.\n",
    "출력예시는 실습 PPT를 참고하시오."
   ]
  },
  {
   "cell_type": "code",
   "execution_count": 29,
   "id": "40bb86f8",
   "metadata": {},
   "outputs": [
    {
     "name": "stdout",
     "output_type": "stream",
     "text": [
      "수학 점수 입력 : 55\n",
      "영어 점수 입력 : 55\n",
      "합격\n"
     ]
    }
   ],
   "source": [
    "math = int(input(\"수학 점수 입력 : \"))\n",
    "eng = int(input(\"영어 점수 입력 : \"))\n",
    "\n",
    "sum1 = math + eng\n",
    "a = 40\n",
    "\n",
    "if sum1 >= 110:\n",
    "    print('합격')\n",
    "elif a > math:\n",
    "    print('불합격 : math')\n",
    "elif a > eng:\n",
    "    print('불합격 : eng')\n",
    "else :\n",
    "    print('불합격 : 점수 부족')"
   ]
  },
  {
   "cell_type": "markdown",
   "id": "a9ed9745",
   "metadata": {},
   "source": [
    "### 문제4) PPT 문제\n",
    "세 개의 정수를 입력 받아, 가장 큰 수만 출력하는 프로그\n",
    "램을 작성하시오. (반복문 사용하지 말 것. max 함수, 정렬\n",
    "함수 이용하지 않고 구현할 것)"
   ]
  },
  {
   "cell_type": "code",
   "execution_count": 42,
   "id": "698333d1",
   "metadata": {},
   "outputs": [
    {
     "name": "stdout",
     "output_type": "stream",
     "text": [
      "1번 정수 입력 : 100\n",
      "2번 정수 입력 : 50\n",
      "3번 정수 입력 : 1\n",
      "가장 큰 수는 100 입니다.\n"
     ]
    }
   ],
   "source": [
    "a = int(input(\"1번 정수 입력 : \"))\n",
    "b = int(input(\"2번 정수 입력 : \"))\n",
    "c = int(input(\"3번 정수 입력 : \"))\n",
    "\n",
    "if a>=b and a>=c :    #입력 값중 a가 가장 클 경우 a 출력\n",
    "    print(\"가장 큰 수는 %d 입니다.\"%a)\n",
    "elif b>=c :           # 남은 b와 c를 비교하여 b가 클 경우 b 출력\n",
    "    print(\"가장 큰 수는 %d 입니다.\"%b)\n",
    "else:                 # 이외에는 c가 가장 크다\n",
    "    print(\"가장 큰 수는 %d 입니다.\"%c) \n",
    "\n"
   ]
  },
  {
   "cell_type": "markdown",
   "id": "2202728d",
   "metadata": {},
   "source": [
    "## 2 반복문(while or for)\n",
    "### 문제1) 단어(문자열)가 주어질 때, 아래와 같이 출력되도록 작성하시오\n",
    " P\n",
    " \n",
    " y\n",
    " \n",
    " t\n",
    " \n",
    " h\n",
    " \n",
    " o\n",
    " \n",
    " n\n",
    " \n",
    " (1) while 문을 이용하여 작성 (문자열)\n",
    " "
   ]
  },
  {
   "cell_type": "code",
   "execution_count": 65,
   "id": "a56a93a7",
   "metadata": {},
   "outputs": [
    {
     "name": "stdout",
     "output_type": "stream",
     "text": [
      "P\n",
      "y\n",
      "t\n",
      "h\n",
      "o\n",
      "n\n"
     ]
    }
   ],
   "source": [
    "word = 'Python'\n",
    "num = 1\n",
    "a = len(word)  #word의 길이를 확인하기위해 len함수를 사용 a = 6\n",
    "\n",
    "while num <= a : # 반복횟수를 6번만큼 함.\n",
    "    print(word[num-1:num]) #리스트의 한 단어씩 사용하기 위해 [num-1:num] 사용\n",
    "    num = num + 1 #숫자를 증가\n",
    "\n"
   ]
  },
  {
   "cell_type": "markdown",
   "id": "996c4324",
   "metadata": {},
   "source": [
    "(2) for 문을 이용하여 작성 (문자열)\n",
    "\n",
    "(단, range()를 이용하지 않는다.)"
   ]
  },
  {
   "cell_type": "code",
   "execution_count": 68,
   "id": "625b61f2",
   "metadata": {},
   "outputs": [
    {
     "name": "stdout",
     "output_type": "stream",
     "text": [
      "P\n",
      "y\n",
      "t\n",
      "h\n",
      "o\n",
      "n\n"
     ]
    }
   ],
   "source": [
    "word = 'Python'\n",
    "\n",
    "for x in word :\n",
    "    print(x)\n",
    "#for문의 기본형으로 순서열 변수가 반복변수에 할당되어 그대로 출력\n"
   ]
  },
  {
   "cell_type": "markdown",
   "id": "6cce30b7",
   "metadata": {},
   "source": [
    "문제2) 아래와 같이 출력되는 프로그램을 작성하시오.\n",
    "\n",
    "10, 9, 8, 7, 6, 5, 4, 3, 2, 1, Happy new year!!"
   ]
  },
  {
   "cell_type": "code",
   "execution_count": 82,
   "id": "44d9464a",
   "metadata": {},
   "outputs": [
    {
     "name": "stdout",
     "output_type": "stream",
     "text": [
      "[1, 2, 3, 4, 5, 6, 7, 8, 9, 10]\n",
      "10, 9, 8, 7, 6, 5, 4, 3, 2, 1, Happy new year!!\n"
     ]
    }
   ],
   "source": [
    "a = list(range(1,11))\n",
    "print(a)\n",
    "\n",
    "for x in a :\n",
    "    print(a[-x],end = ', ')    \n",
    "print('Happy new year!!')"
   ]
  },
  {
   "cell_type": "code",
   "execution_count": 6,
   "id": "392f365e",
   "metadata": {},
   "outputs": [
    {
     "name": "stdout",
     "output_type": "stream",
     "text": [
      "m\n",
      "m\n"
     ]
    }
   ],
   "source": [
    "a = 'math'\n",
    "print(a[0])\n",
    "print(a[-4])\n"
   ]
  },
  {
   "cell_type": "markdown",
   "id": "f6b36089",
   "metadata": {},
   "source": [
    "문제3) 양의 두 정수 a, b를 입력 받아, a부터 b까지의 정수의 합을 구하여 출력하는 프로그램을 작성하시오. (for또는 while을 이용할 것)\n",
    "\n",
    "단, 조건 a <= b 을 만족하는 값만 고려한다."
   ]
  },
  {
   "cell_type": "code",
   "execution_count": 51,
   "id": "a1a356c8",
   "metadata": {},
   "outputs": [
    {
     "name": "stdout",
     "output_type": "stream",
     "text": [
      "정수 입력 : 1000\n",
      "정수 입력 : 10000\n",
      "49505500\n"
     ]
    }
   ],
   "source": [
    "a = int(input(\"정수 입력 : \"))\n",
    "b = int(input(\"정수 입력 : \"))\n",
    "c = 0\n",
    "\n",
    "if a<=b :  #a의 값이 더 큰지 확인\n",
    "    while(a <= b): #a부터 b까지 반복 \n",
    "        c = c+a # c에 a부터 b까지 숫자 더함\n",
    "        a = a+1\n",
    "    print(c)\n",
    "else :\n",
    "    print(\"첫 번째수가 더큽니다 다시 입력 하세요\")"
   ]
  },
  {
   "cell_type": "markdown",
   "id": "4ae866e4",
   "metadata": {},
   "source": [
    "문제4) 주어진 문자열에 문자a가 몇 개 있는지 구하는 프로그램을 작성하시오.(for문 사용할 것)"
   ]
  },
  {
   "cell_type": "code",
   "execution_count": 118,
   "id": "b892d308",
   "metadata": {},
   "outputs": [
    {
     "name": "stdout",
     "output_type": "stream",
     "text": [
      "3\n"
     ]
    }
   ],
   "source": [
    "word = 'banana'\n",
    "# word.count('a')  #a=3개다\n",
    "b = 0\n",
    "\n",
    "for x in word:\n",
    "    if x=='a' :       # a를 문자로 인식하기위해 따옴표로 비교해야함\n",
    "        b = b+1       # if문에 들어온 숫자를 b로 카운트\n",
    "print(b)\n"
   ]
  },
  {
   "cell_type": "markdown",
   "id": "d7ef7bfb",
   "metadata": {},
   "source": [
    "문제5) for 문과 range()함수를 이용하여 다음과 같이 출력되도록 작성하시오. (각 줄마다 range()함수 사용)\n",
    "\n",
    "0 1 2 3 4 5 6 7 8 9\n",
    "\n",
    "0 5 10 15 20 25 30 35 40 45 50\n",
    "\n",
    "10 9 8 7 6 5 4 3 2 1"
   ]
  },
  {
   "cell_type": "code",
   "execution_count": 166,
   "id": "2c28f058",
   "metadata": {},
   "outputs": [
    {
     "name": "stdout",
     "output_type": "stream",
     "text": [
      "0 1 2 3 4 5 6 7 8 9 \n",
      "0 5 10 15 20 25 30 35 40 45 \n",
      "10 9 8 7 6 5 4 3 2 1 "
     ]
    }
   ],
   "source": [
    "a = list(range(10)) # 0~9까지 범위\n",
    "\n",
    "for x in a :        \n",
    "    print(x, end = ' ') #for문의 기본형으로 순서열 변수가 반복변수에 할당되어 그대로 출력\n",
    "print('')\n",
    "for x in a :\n",
    "    print(x*5, end= ' ') #기본 숫자에 *5 하여 출력\n",
    "print('')\n",
    "for x in a :\n",
    "    b = a[-1]-x+1     #뒷자리부터 역순으로 출력 범위가 9부터 시작이라 + 1해줘서 조건에 맞춰줌\n",
    "    print(b, end= ' ')\n"
   ]
  },
  {
   "cell_type": "markdown",
   "id": "3b3351ae",
   "metadata": {},
   "source": [
    "문제6) for 문을 사용하여 리스트(colors)의 모든 내용을\n",
    "출력하시오. (단, range()를 이용하지 않는다.)"
   ]
  },
  {
   "cell_type": "code",
   "execution_count": 171,
   "id": "593facdb",
   "metadata": {},
   "outputs": [
    {
     "name": "stdout",
     "output_type": "stream",
     "text": [
      "red\n",
      "green\n",
      "blue\n"
     ]
    }
   ],
   "source": [
    "a = ['red','green','blue']\n",
    "for x in a :\n",
    "    print(x)"
   ]
  },
  {
   "cell_type": "markdown",
   "id": "7dc32775",
   "metadata": {},
   "source": [
    "문제7) 리스트 a 전체를 반복해서 방문하되, 짝수만 출력\n",
    "하시오.(for 문 사용할 것, range() 이용하지 말 것)"
   ]
  },
  {
   "cell_type": "code",
   "execution_count": 196,
   "id": "9d3031ba",
   "metadata": {},
   "outputs": [
    {
     "name": "stdout",
     "output_type": "stream",
     "text": [
      "4\n",
      "6\n",
      "8\n",
      "10\n",
      "12\n"
     ]
    }
   ],
   "source": [
    "a = [1, 3, 4, 5, 6, 7, 8, 9, 10, 11, 12, 13]\n",
    "\n",
    "for x in a:\n",
    "    if x%2 == 0:   #각 몫이 0일경우 짝수\n",
    "        print(x) "
   ]
  },
  {
   "cell_type": "markdown",
   "id": "8d777611",
   "metadata": {},
   "source": [
    "문제8) 구구단 출력1 – PPT 문제"
   ]
  },
  {
   "cell_type": "code",
   "execution_count": 200,
   "id": "7219a0f9",
   "metadata": {},
   "outputs": [
    {
     "name": "stdout",
     "output_type": "stream",
     "text": [
      "출력하고 싶은 단을 입력하세요 : 7\n",
      "7 * 1 = 7\n",
      "7 * 2 = 14\n",
      "7 * 3 = 21\n",
      "7 * 4 = 28\n",
      "7 * 5 = 35\n",
      "7 * 6 = 42\n",
      "7 * 7 = 49\n",
      "7 * 8 = 56\n",
      "7 * 9 = 63\n"
     ]
    }
   ],
   "source": [
    "table = int(input(\"출력하고 싶은 단을 입력하세요 : \"))\n",
    "for x in range(1,10) :\n",
    "    print(\"7 * %d = %d\"%(x, x*table))"
   ]
  },
  {
   "cell_type": "markdown",
   "id": "06e95e1e",
   "metadata": {},
   "source": [
    "문제9) 구구단 출력2 (중첩 반복문)"
   ]
  },
  {
   "cell_type": "code",
   "execution_count": 211,
   "id": "f54fa9a6",
   "metadata": {},
   "outputs": [
    {
     "name": "stdout",
     "output_type": "stream",
     "text": [
      "== 2단 ==\n",
      "2 * 1 = 2\n",
      "2 * 2 = 4\n",
      "2 * 3 = 6\n",
      "2 * 4 = 8\n",
      "2 * 5 = 10\n",
      "2 * 6 = 12\n",
      "2 * 7 = 14\n",
      "2 * 8 = 16\n",
      "2 * 9 = 18\n",
      "== 3단 ==\n",
      "3 * 1 = 3\n",
      "3 * 2 = 6\n",
      "3 * 3 = 9\n",
      "3 * 4 = 12\n",
      "3 * 5 = 15\n",
      "3 * 6 = 18\n",
      "3 * 7 = 21\n",
      "3 * 8 = 24\n",
      "3 * 9 = 27\n",
      "== 4단 ==\n",
      "4 * 1 = 4\n",
      "4 * 2 = 8\n",
      "4 * 3 = 12\n",
      "4 * 4 = 16\n",
      "4 * 5 = 20\n",
      "4 * 6 = 24\n",
      "4 * 7 = 28\n",
      "4 * 8 = 32\n",
      "4 * 9 = 36\n",
      "== 5단 ==\n",
      "5 * 1 = 5\n",
      "5 * 2 = 10\n",
      "5 * 3 = 15\n",
      "5 * 4 = 20\n",
      "5 * 5 = 25\n",
      "5 * 6 = 30\n",
      "5 * 7 = 35\n",
      "5 * 8 = 40\n",
      "5 * 9 = 45\n",
      "== 6단 ==\n",
      "6 * 1 = 6\n",
      "6 * 2 = 12\n",
      "6 * 3 = 18\n",
      "6 * 4 = 24\n",
      "6 * 5 = 30\n",
      "6 * 6 = 36\n",
      "6 * 7 = 42\n",
      "6 * 8 = 48\n",
      "6 * 9 = 54\n",
      "== 7단 ==\n",
      "7 * 1 = 7\n",
      "7 * 2 = 14\n",
      "7 * 3 = 21\n",
      "7 * 4 = 28\n",
      "7 * 5 = 35\n",
      "7 * 6 = 42\n",
      "7 * 7 = 49\n",
      "7 * 8 = 56\n",
      "7 * 9 = 63\n",
      "== 8단 ==\n",
      "8 * 1 = 8\n",
      "8 * 2 = 16\n",
      "8 * 3 = 24\n",
      "8 * 4 = 32\n",
      "8 * 5 = 40\n",
      "8 * 6 = 48\n",
      "8 * 7 = 56\n",
      "8 * 8 = 64\n",
      "8 * 9 = 72\n",
      "== 9단 ==\n",
      "9 * 1 = 9\n",
      "9 * 2 = 18\n",
      "9 * 3 = 27\n",
      "9 * 4 = 36\n",
      "9 * 5 = 45\n",
      "9 * 6 = 54\n",
      "9 * 7 = 63\n",
      "9 * 8 = 72\n",
      "9 * 9 = 81\n"
     ]
    }
   ],
   "source": [
    "for x in range(2,10) :\n",
    "    print(\"== %d단 ==\"%x)\n",
    "    for y in range(1,10):\n",
    "        print(\"%d * %d = %d\"%(x, y, x*y))"
   ]
  },
  {
   "cell_type": "code",
   "execution_count": 230,
   "id": "3ed2e47e",
   "metadata": {
    "scrolled": true
   },
   "outputs": [
    {
     "name": "stdout",
     "output_type": "stream",
     "text": [
      " 2 *  1 =  2  3 *  1 =  3  4 *  1 =  4  5 *  1 =  5  6 *  1 =  6  7 *  1 =  7  8 *  1 =  8  9 *  1 =  9 \n",
      " 2 *  2 =  4  3 *  2 =  6  4 *  2 =  8  5 *  2 = 10  6 *  2 = 12  7 *  2 = 14  8 *  2 = 16  9 *  2 = 18 \n",
      " 2 *  3 =  6  3 *  3 =  9  4 *  3 = 12  5 *  3 = 15  6 *  3 = 18  7 *  3 = 21  8 *  3 = 24  9 *  3 = 27 \n",
      " 2 *  4 =  8  3 *  4 = 12  4 *  4 = 16  5 *  4 = 20  6 *  4 = 24  7 *  4 = 28  8 *  4 = 32  9 *  4 = 36 \n",
      " 2 *  5 = 10  3 *  5 = 15  4 *  5 = 20  5 *  5 = 25  6 *  5 = 30  7 *  5 = 35  8 *  5 = 40  9 *  5 = 45 \n",
      " 2 *  6 = 12  3 *  6 = 18  4 *  6 = 24  5 *  6 = 30  6 *  6 = 36  7 *  6 = 42  8 *  6 = 48  9 *  6 = 54 \n",
      " 2 *  7 = 14  3 *  7 = 21  4 *  7 = 28  5 *  7 = 35  6 *  7 = 42  7 *  7 = 49  8 *  7 = 56  9 *  7 = 63 \n",
      " 2 *  8 = 16  3 *  8 = 24  4 *  8 = 32  5 *  8 = 40  6 *  8 = 48  7 *  8 = 56  8 *  8 = 64  9 *  8 = 72 \n",
      " 2 *  9 = 18  3 *  9 = 27  4 *  9 = 36  5 *  9 = 45  6 *  9 = 54  7 *  9 = 63  8 *  9 = 72  9 *  9 = 81 \n"
     ]
    }
   ],
   "source": [
    "for x in range(1,10) :                 # x를 1~9 까지 반복\n",
    "    for y in range(2,10):              # y를 2~9 까지 반복  \n",
    "        print(\"%2d * %2d = %2d \"%(y, x, x*y),end='') \n",
    "    print()\n",
    "# 해석. 변수 x가 모두 진행한 뒤 y가 진행되는꼴이라 y = 2 ~> x = 1~9 / y = 3 ~> x = 1 ~ 9 반복으로 생각하면 됨.\n",
    "# 포문은 이전 문장을 반복 한 뒤 다음 문장이 진행됨"
   ]
  },
  {
   "cell_type": "markdown",
   "id": "1a130cac",
   "metadata": {},
   "source": [
    "문제11) ★ 출력 프로그램 - PPT 문제"
   ]
  },
  {
   "cell_type": "code",
   "execution_count": null,
   "id": "dfad19be",
   "metadata": {},
   "outputs": [],
   "source": [
    "star = input(\"정수를 입력하세요 \")\n",
    "\n",
    "num_list = list(map(int, star))   # 받아온 문자열을 리스트 형태로 자리수 만큼 숫자로 변환 \n",
    "print(num_list)\n",
    "\n",
    "for x in num_list:\n",
    "    print('★'*x)"
   ]
  },
  {
   "cell_type": "code",
   "execution_count": 15,
   "id": "11dc7fbf",
   "metadata": {
    "scrolled": false
   },
   "outputs": [
    {
     "name": "stdout",
     "output_type": "stream",
     "text": [
      "정수를 입력하세요 1231\n",
      "[1, 2, 3, 1]\n",
      "★\n",
      "★★\n",
      "★★★\n",
      "★\n",
      "a\n",
      "aa\n",
      "aaa\n",
      "aa\n",
      "a\n",
      "aaa\n"
     ]
    }
   ],
   "source": [
    "# 2번 해결법\n",
    "x2 = '123213'\n",
    "for x in x2 :\n",
    "    for y in range(int(x)):\n",
    "        print('a',end='')\n",
    "    print()"
   ]
  },
  {
   "cell_type": "markdown",
   "id": "aa3e1b53",
   "metadata": {},
   "source": [
    "문제12) - PPT 문제\n",
    "“done“을 입력할 때까지 사용자로부터 숫자를 입력 받아\n",
    "리스트에 저장하고, “done“을 입력하면, 리스트의 평균,\n",
    "최대값과 최소값을 출력하는 프로그램을 작성하시오.\n",
    "(힌트) sum(), max(), min() 함수를 사용"
   ]
  },
  {
   "cell_type": "code",
   "execution_count": null,
   "id": "ed24eaab",
   "metadata": {},
   "outputs": [
    {
     "name": "stdout",
     "output_type": "stream",
     "text": [
      "123\n",
      "['123']\n",
      "321\n",
      "['123', '321']\n",
      "321\n",
      "['123', '321', '321']\n",
      "q\n",
      "wrong input!!\n",
      "['123', '321', '321']\n",
      "w\n",
      "wrong input!!\n",
      "['123', '321', '321']\n",
      "e\n",
      "wrong input!!\n",
      "['123', '321', '321']\n",
      "123.213\n",
      "wrong input!!\n",
      "['123', '321', '321']\n",
      "121.1\n",
      "wrong input!!\n",
      "['123', '321', '321']\n"
     ]
    }
   ],
   "source": [
    "## 1번 방식\n",
    "#enter = input(\"\") # 처음부터 변수 받아오기\n",
    "alist = [] #리스트 초기화\n",
    "while True:\n",
    "    enter = input(\"\")   #반복문 내에서 자료를 계속 받아옴 / 만약 done이 들어온다면 반복 끝.\n",
    "    if enter == 'done': #받아온 변수가 done이 아니면 \n",
    "        break\n",
    "    else:\n",
    "        if enter.isdigit() :  #isdigit, isnumeric는 받아온 변수가 문자인지 체크\n",
    "            alist.append(enter) #처음 받아온 변수를 리스트에 추가\n",
    "        else:\n",
    "            print(\"wrong input!!\")\n",
    "        \n",
    "    print(alist)        #매 리스트 마다 잘들어왔는지 확인\n",
    "    \n",
    "# result = list(map(int, alist))  #list(map(int,변수리스트)) 해당 함수를 사용하면 리스트의 자료형을 변경\n",
    "# print('최솟값 : %d'%min(result))  #최솟값 출력\n",
    "# print('최댓값 : %d'%max(result))  #최댓값 출력\n",
    "\n",
    "# avg = sum(result) / len(result) #평균 값 구하기\n",
    "# print(\"평균값 : %f\"%avg) \n"
   ]
  },
  {
   "cell_type": "code",
   "execution_count": 64,
   "id": "528d3a78",
   "metadata": {},
   "outputs": [
    {
     "name": "stdout",
     "output_type": "stream",
     "text": [
      "1\n",
      "done\n"
     ]
    }
   ],
   "source": [
    "a = int(input())\n",
    "if type(10) == type(a) :\n",
    "    print('done')\n"
   ]
  },
  {
   "cell_type": "code",
   "execution_count": null,
   "id": "8ebb480d",
   "metadata": {},
   "outputs": [
    {
     "name": "stdout",
     "output_type": "stream",
     "text": [
      "3232\n",
      "['3232']\n"
     ]
    }
   ],
   "source": [
    "## 1번 방식\n",
    "enter = input(\"\") # 처음부터 변수 받아오기\n",
    "alist = [] #리스트 초기화enter = input(\"\") # 처음부터 변수 받아오기\n",
    "alist = [] #리스트 초기화enter = input(\"\") # 처음부터 변수 받아오기\n",
    "alist = [] #리스트 초기화\n",
    "while(enter != 'done'): #받아온 변수가 done이 아니면 \n",
    "    alist.append(enter) #처음 받아온 변수를 리스트에 추가\n",
    "    print(alist)        #매 리스트 마다 잘들어왔는지 확인\n",
    "    enter = input(\"\")   #반복문 내에서 자료를 계속 받아옴 / 만약 done이 들어온다면 반복 끝.\n",
    "result = list(map(int, alist))  #list(map(int,변수리스트)) 해당 함수를 사용하면 리스트의 자료형을 변경\n",
    "print('최솟값 : %d'%min(result))  #최솟값 출력\n",
    "print('최댓값 : %d'%max(result))  #최댓값 출력\n",
    "\n",
    "avg = sum(result) / len(result) #평균 값 구하기\n",
    "print(\"평균값 : %f\"%avg) \n"
   ]
  },
  {
   "cell_type": "markdown",
   "id": "88987624",
   "metadata": {},
   "source": [
    "## "
   ]
  }
 ],
 "metadata": {
  "kernelspec": {
   "display_name": "Python 3 (ipykernel)",
   "language": "python",
   "name": "python3"
  },
  "language_info": {
   "codemirror_mode": {
    "name": "ipython",
    "version": 3
   },
   "file_extension": ".py",
   "mimetype": "text/x-python",
   "name": "python",
   "nbconvert_exporter": "python",
   "pygments_lexer": "ipython3",
   "version": "3.9.7"
  }
 },
 "nbformat": 4,
 "nbformat_minor": 5
}
