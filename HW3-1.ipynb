{
 "cells": [
  {
   "cell_type": "markdown",
   "id": "4d709746",
   "metadata": {},
   "source": [
    "### 파이썬 프로그래밍 기초 실습 3-1\n",
    "## 딕셔너리(dict)\n",
    "중괄호 {}로 묶여 있으며, key와 value의 쌍으로 이뤄짐\n",
    "\n",
    "d = {key1:value1,key2:value2}"
   ]
  },
  {
   "cell_type": "code",
   "execution_count": 8,
   "id": "2381f08f",
   "metadata": {},
   "outputs": [
    {
     "name": "stdout",
     "output_type": "stream",
     "text": [
      "정수를 입력하세요 141414\n",
      "[1, 4, 1, 4, 1, 4]\n",
      "★\n",
      "★★★★\n",
      "★\n",
      "★★★★\n",
      "★\n",
      "★★★★\n"
     ]
    }
   ],
   "source": [
    "# 11번\n",
    "star = input(\"정수를 입력하세요 \")\n",
    "\n",
    "num_list = list(map(int, star))   # 받아온 문자열을 리스트 형태로 자리수 만큼 숫자로 변환 \n",
    "print(num_list)\n",
    "\n",
    "for x in num_list:\n",
    "    print('★'*x)"
   ]
  },
  {
   "cell_type": "code",
   "execution_count": 12,
   "id": "00078fda",
   "metadata": {},
   "outputs": [
    {
     "name": "stdout",
     "output_type": "stream",
     "text": [
      "1\n",
      "['1']\n",
      "31\n",
      "['1', '31']\n",
      "done\n",
      "최솟값 : 1\n",
      "최댓값 : 31\n",
      "평균값 : 16.000000\n"
     ]
    }
   ],
   "source": [
    "## 12번\n",
    "#enter = input(\"\") # 처음부터 변수 받아오기\n",
    "alist = [] #리스트 초기화\n",
    "while True:\n",
    "    enter = input(\"\")   #반복문 내에서 자료를 계속 받아옴 / 만약 done이 들어온다면 반복 끝.\n",
    "    if enter == 'done': #받아온 변수가 done이 아니면 \n",
    "        break\n",
    "    else:\n",
    "        if enter.isdigit() :  #isdigit, isnumeric는 받아온 변수가 문자인지 체크\n",
    "            alist.append(enter) #처음 받아온 변수를 리스트에 추가\n",
    "        else:\n",
    "            print(\"잘못 입력했습니다.\") #숫자가 아니면 프린트로 알림\n",
    "        \n",
    "    print(alist)        #매 리스트 마다 잘들어왔는지 확인\n",
    "    \n",
    "result = list(map(int, alist))  #list(map(int,변수리스트)) 해당 함수를 사용하면 리스트의 자료형을 변경\n",
    "print('최솟값 : %d'%min(result))  #최솟값 출력\n",
    "print('최댓값 : %d'%max(result))  #최댓값 출력\n",
    "\n",
    "avg = sum(result) / len(result) #평균 값 구하기\n",
    "print(\"평균값 : %f\"%avg) \n"
   ]
  },
  {
   "cell_type": "code",
   "execution_count": 2,
   "id": "9df97636",
   "metadata": {},
   "outputs": [
    {
     "name": "stdout",
     "output_type": "stream",
     "text": [
      "1 2 10 \n"
     ]
    }
   ],
   "source": [
    "#실습1) for문을 사용하여 딕셔너리 타입의 d의 모든 value를 출력하라\n",
    "\n",
    "d = {'youn':1,'prak':2,'kim':10}\n",
    "\n",
    "# for i,x in d.items():\n",
    "#   print(x,end=' ')\n",
    "#해당 방법으로 items의 값을 i와 x로 표현 한 후 아래 방식으로 해결\n",
    "\n",
    "for i in d.values():\n",
    "  print(i,end=' ')\n",
    "print()"
   ]
  },
  {
   "cell_type": "code",
   "execution_count": 1,
   "id": "3b00bf1f",
   "metadata": {},
   "outputs": [
    {
     "name": "stdout",
     "output_type": "stream",
     "text": [
      "('five', 5)\n",
      "('four', 4)\n",
      "('one', 1)\n",
      "('three', 3)\n",
      "('two', 2)\n",
      "\n",
      "{'one': 1, 'two': 2, 'three': 3, 'four': 4, 'five': 5}\n"
     ]
    }
   ],
   "source": [
    "#실습2) 아래와 같은 딕셔너리 가있다.\n",
    "#알파벳 순서로 출력하세요\n",
    "alp = {'one':1, 'two':2, 'three':3, 'four':4, 'five':5}\n",
    "\n",
    "for a in sorted(alp.items()) :\n",
    "    print(a)\n",
    "print()"
   ]
  },
  {
   "cell_type": "code",
   "execution_count": 5,
   "id": "a2343dba",
   "metadata": {},
   "outputs": [
    {
     "name": "stdout",
     "output_type": "stream",
     "text": [
      "단어를 적어주세요aaaaaaaaa1\n",
      "{'a': 9, '1': 1}\n"
     ]
    }
   ],
   "source": [
    "#실습3) 어떤 문장을 입력 받으면 해당 문장에서 각 문자가 몇개씩 나오는지 저장하는 딕셔너리를 만든 후, 아래와 같이 출력하시오.\n",
    "#enter = 'python is fun!'\n",
    "#연습\n",
    "enter = input(\"단어를 적어주세요\")\n",
    "cnt = dict()\n",
    "for name in enter:   # input 값만큼 반복\n",
    "    if name not in cnt: #딕셔너리에 키값이 저장되있지 않으면 생성\n",
    "        cnt[name] = 1\n",
    "    else:\n",
    "        cnt[name] += 1 #딕셔너리가 있을 경우 1개씩 추가\n",
    "print(cnt)"
   ]
  },
  {
   "cell_type": "code",
   "execution_count": 7,
   "id": "f92e3050",
   "metadata": {},
   "outputs": [
    {
     "name": "stdout",
     "output_type": "stream",
     "text": [
      "최댓 값은 150\n",
      "최솟 값은 20\n",
      "평균 값은 81\n"
     ]
    }
   ],
   "source": [
    "#실습4) 학생의 이름과 점수를 가지고 있는 딕셔너리가 있을 때, 최고점과 최저점, 평균을 출력하는 프로그램을 작성하세요.\n",
    "score =  {'iu':100, 'heize': 70, 'zico':65, 'ailee':150, 'rain': 20}\n",
    "init = 0\n",
    "z =[]\n",
    "for x in score.values() :\n",
    "  init = init+x\n",
    "  z.append(x)\n",
    "\n",
    "print(\"최댓 값은 %d\"%max(z))\n",
    "print(\"최솟 값은 %d\"%min(z))\n",
    "print(\"평균 값은 %d\"%(float(init)/len(score)))"
   ]
  },
  {
   "cell_type": "code",
   "execution_count": 7,
   "id": "5cbf0062",
   "metadata": {},
   "outputs": [
    {
     "name": "stdout",
     "output_type": "stream",
     "text": [
      "[('two', 234), ('three', 32), ('five', 5), ('one', 4), ('four', 4)]\n"
     ]
    }
   ],
   "source": [
    "import operator\n",
    "\n",
    "alp = {'one':4, 'two':234, 'three':32, 'four':4, 'five':5}\n",
    "\n",
    "alp = sorted(alp.items(), key=operator.itemgetter(1), reverse= True)\n",
    "\n",
    "print(alp)"
   ]
  }
 ],
 "metadata": {
  "kernelspec": {
   "display_name": "Python 3 (ipykernel)",
   "language": "python",
   "name": "python3"
  },
  "language_info": {
   "codemirror_mode": {
    "name": "ipython",
    "version": 3
   },
   "file_extension": ".py",
   "mimetype": "text/x-python",
   "name": "python",
   "nbconvert_exporter": "python",
   "pygments_lexer": "ipython3",
   "version": "3.9.7"
  }
 },
 "nbformat": 4,
 "nbformat_minor": 5
}
