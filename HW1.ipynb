{
 "cells": [
  {
   "cell_type": "markdown",
   "id": "b7759e7c",
   "metadata": {},
   "source": [
    "##실습 1번 = 화씨를 입력받아 섭씨를 구하라."
   ]
  },
  {
   "cell_type": "code",
   "execution_count": 13,
   "id": "6fe4e7b8",
   "metadata": {},
   "outputs": [
    {
     "name": "stdout",
     "output_type": "stream",
     "text": [
      "화씨온도 입력100.5\n",
      "섭씨온도 38.055556 \n"
     ]
    }
   ],
   "source": [
    "temp = float(input('화씨온도 입력')) #// 입력이 정수가아닌 \n",
    "C = (temp - 32) * 5/9\n",
    "print(\"섭씨온도 %f \"%C)"
   ]
  },
  {
   "cell_type": "markdown",
   "id": "b29b9329",
   "metadata": {},
   "source": [
    "##실습 2번 = 잔돈 계산시 동전의 개수 최소화"
   ]
  },
  {
   "cell_type": "code",
   "execution_count": 45,
   "id": "ce72124b",
   "metadata": {},
   "outputs": [
    {
     "name": "stdout",
     "output_type": "stream",
     "text": [
      "투인한 돈 : 5000\n",
      "물건 값 : 2700\n",
      "투입 액 : 5000 물건 값 : 2700 거스름돈 : 2300 \n",
      "동전 500원짜리 : 4개 100원짜리 : 3개\n"
     ]
    }
   ],
   "source": [
    "a = int(input('투인한 돈 : ')) #// 투입한 돈\n",
    "b = int(input('물건 값 : ')) #// 물건값\n",
    "c = a - b #// 거스름돈\n",
    "\n",
    "d = c / 500 #// 500원 짜리 4\n",
    "        #해당 수식 오류  e = d * 500 - c // 해당 수식은d * 500 = c\n",
    "e = (c % 500) / 100 # %로 나온 몫의 100으로 나눠 개수로 표현\n",
    "\n",
    "print ( \"투입 액 : %d 물건 값 : %d 거스름돈 : %d \\n동전 500원짜리 : %d개 100원짜리 : %d개\"%(a,b,c,d,e))"
   ]
  },
  {
   "cell_type": "markdown",
   "id": "0bcfcd40",
   "metadata": {},
   "source": [
    "##실습 3번 = 문자열의 마지막 문자를 구해서 출력해보자"
   ]
  },
  {
   "cell_type": "code",
   "execution_count": 1,
   "id": "cc15d79c",
   "metadata": {},
   "outputs": [
    {
     "name": "stdout",
     "output_type": "stream",
     "text": [
      "단어 입력 : dasadda\n"
     ]
    },
    {
     "data": {
      "text/plain": [
       "'a'"
      ]
     },
     "execution_count": 1,
     "metadata": {},
     "output_type": "execute_result"
    }
   ],
   "source": [
    "word = input('단어 입력 : ')\n",
    "a = len(word)\n",
    "b = a -1\n",
    "word[b:]"
   ]
  },
  {
   "cell_type": "markdown",
   "id": "81898fc8",
   "metadata": {},
   "source": [
    "##실습 4번 = 아래의 실행예제를 참고하여 프로그램을 작성하라."
   ]
  },
  {
   "cell_type": "code",
   "execution_count": 7,
   "id": "0a5a9a09",
   "metadata": {},
   "outputs": [
    {
     "name": "stdout",
     "output_type": "stream",
     "text": [
      "오늘 날짜를 숫자만 8자리로 작성해주세요 : \n",
      " ex) 2022/03/29 20220202\n",
      "다시 실행하세요\n"
     ]
    }
   ],
   "source": [
    "date = input('오늘 날짜를 숫자만 8자리로 작성해주세요 : \\n ex) 2022/03/29 ')\n",
    "\n",
    "if '/' in date:                       # 조건문 사용시 True일 경우  발동\n",
    "    if date.count('/') == 2:          # date의 내용중 /를 카운트하여 2개가 맞을경우 실행\n",
    "        a,b,c = date.split(\"/\")\n",
    "        print(\"날짜(연/월/일) 입력 : %s/%s/%s\"%(a,b,c))\n",
    "        d = int(a) + 10\n",
    "        print(\"입력한 날짜의 10년 후는 %s/%s/%s\"%(d,b,c))\n",
    "    else:                             # /개수를 확인해주세요\n",
    "        print(\"/를 확인해보세요\")\n",
    "else:                                 # / 조건문을 확인하세요\n",
    "    print(\"다시 실행하세요\") \n"
   ]
  },
  {
   "cell_type": "markdown",
   "id": "3437b426",
   "metadata": {},
   "source": [
    "파이썬 프로그래밍 기초 실습 1\n",
    "1. 연습문제\n",
    "(문제 1) PPT(실습 문제1)\n",
    "화씨온도(℉)를 입력 받아서 섭씨온도(℃)로 바꾸는 프로그\n",
    "램을 작성하시오. (밑줄은 사용자 입력)"
   ]
  },
  {
   "cell_type": "code",
   "execution_count": 2,
   "id": "d5a98fe9",
   "metadata": {},
   "outputs": [
    {
     "name": "stdout",
     "output_type": "stream",
     "text": [
      "화씨온도 입력100\n",
      "섭씨온도 37.777778 \n"
     ]
    }
   ],
   "source": [
    "temp = float(input('화씨온도 입력')) #// 입력이 정수가아닌 \n",
    "C = (temp - 32) * 5/9\n",
    "print(\"섭씨온도 %f \"%C)"
   ]
  },
  {
   "cell_type": "markdown",
   "id": "87221ec7",
   "metadata": {},
   "source": [
    "(문제 2) 자동 판매기 프로그램 - PPT(실습문제2)\n",
    "사용자로부터 투입한 돈과 물건 값을 입력 받아, 잔돈을\n",
    "계산하여 출력한다. 단, 동전의 개수는 최소화 할 것\n",
    "(가정)\n",
    "- 물건 값은 100원 단위\n",
    "- 자판기의 동전은 500원, 100원만 있음"
   ]
  },
  {
   "cell_type": "code",
   "execution_count": 3,
   "id": "c1ee378a",
   "metadata": {},
   "outputs": [
    {
     "name": "stdout",
     "output_type": "stream",
     "text": [
      "투인한 돈 : 5401\n",
      "물건 값 : 4481\n",
      "투입 액 : 5401 물건 값 : 4481 거스름돈 : 920 \n",
      "동전 500원짜리 : 1개 100원짜리 : 4개\n"
     ]
    }
   ],
   "source": [
    "a = int(input('투인한 돈 : ')) #// 투입한 돈\n",
    "b = int(input('물건 값 : ')) #// 물건값\n",
    "c = a - b #// 거스름돈\n",
    "\n",
    "d = c / 500 #// 500원 짜리 4\n",
    "        #해당 수식 오류  e = d * 500 - c // 해당 수식은d * 500 = c\n",
    "e = (c % 500) / 100 # %로 나온 몫의 100으로 나눠 개수로 표현\n",
    "\n",
    "print ( \"투입 액 : %d 물건 값 : %d 거스름돈 : %d \\n동전 500원짜리 : %d개 100원짜리 : %d개\"%(a,b,c,d,e))"
   ]
  },
  {
   "cell_type": "markdown",
   "id": "5454565a",
   "metadata": {},
   "source": [
    "(문제 3) 원의 반지름을 r을 입력 받아, 원의 둘레와 넓\n",
    "이를 구하는 프로그램을 작성하시오.\n",
    "                                    원 둘래 : 2 * pi * r (pi = 3.141592)\n",
    "원 넓이 : pi * r^2"
   ]
  },
  {
   "cell_type": "code",
   "execution_count": 16,
   "id": "e7c9a17d",
   "metadata": {},
   "outputs": [
    {
     "name": "stdout",
     "output_type": "stream",
     "text": [
      "반지름을 입력하세요5\n",
      "원 둘레 31.416\n",
      "원 넓이 78.54\n"
     ]
    }
   ],
   "source": [
    "r = int(input(\"반지름을 입력하세요\"))\n",
    "pi = 3.141592\n",
    "\n",
    "a = 2 * pi * r\n",
    "b = pi * r**2\n",
    "\n",
    "print(\"원 둘레 %.3f\"%a)     # %.nf n자리 소숫점 자리수 반올림\n",
    "print(\"원 넓이 %.2f\"%b)\n"
   ]
  },
  {
   "cell_type": "markdown",
   "id": "24095d90",
   "metadata": {},
   "source": [
    "(문제 4) 2개의 정수를 입력 받아, 사칙연산 및 나머지\n",
    "연산의 결과를 아래와 같이 출력하는 프로그램을 작성\n",
    "하시오"
   ]
  },
  {
   "cell_type": "code",
   "execution_count": 26,
   "id": "c29fd6a0",
   "metadata": {
    "scrolled": true
   },
   "outputs": [
    {
     "name": "stdout",
     "output_type": "stream",
     "text": [
      "첫번째 숫자 입력5\n",
      "두번째 숫자 입력6\n",
      "5 + 6 = 11\n",
      "5 - 6 = -1\n",
      "5 * 6 = 30\n",
      "5 / 6 = 0\n",
      "5 % 6 = 5\n"
     ]
    }
   ],
   "source": [
    "f = int(input(\"첫번째 숫자 입력\"))\n",
    "s = int(input(\"두번째 숫자 입력\"))\n",
    "\n",
    "print(\"%d + %d = %d\"%(f,s,f+s))\n",
    "print(\"%d - %d = %d\"%(f,s,f-s))\n",
    "print(\"%d * %d = %d\"%(f,s,f*s))\n",
    "print(\"%d / %d = %d\"%(f,s,f/s))\n",
    "a = f % s\n",
    "print(\"%d %% %d = %d\"%(f,s,a)) # %%를 사용하면 print에서 %가 표현가능하다.\n"
   ]
  },
  {
   "cell_type": "markdown",
   "id": "d8ca6110",
   "metadata": {},
   "source": [
    "(문제 5) 두 정수를 입력 받아, 합과 평균을 구하여 출\n",
    "력하는 프로그램을 작성하시오.\n",
    "(평균 소수 첫째 자리까지 나타내기)\n"
   ]
  },
  {
   "cell_type": "code",
   "execution_count": 27,
   "id": "9a461dda",
   "metadata": {},
   "outputs": [
    {
     "name": "stdout",
     "output_type": "stream",
     "text": [
      "첫번째 숫자 입력70\n",
      "두번째 숫자 입력91\n",
      "70 + 91 = 161\n",
      "70 + 91 = 80.5\n"
     ]
    }
   ],
   "source": [
    "date = input(\"yy/mm/dd\").split('/')"
   ]
  },
  {
   "cell_type": "markdown",
   "id": "fcae97af",
   "metadata": {},
   "source": [
    "(문제 6) PPT(실습문제4)\n",
    "아래의 실행예제를 참고하여 프로그램을 작성하라."
   ]
  },
  {
   "cell_type": "code",
   "execution_count": 28,
   "id": "c52786d5",
   "metadata": {},
   "outputs": [
    {
     "name": "stdout",
     "output_type": "stream",
     "text": [
      "오늘 날짜를 숫자만 8자리로 작성해주세요 : \n",
      " ex) 2022/03/29 2022/03/30\n",
      "날짜(연/월/일) 입력 : 2022/03/30\n",
      "입력한 날짜의 10년 후는 2032/03/30\n"
     ]
    }
   ],
   "source": [
    "date = input('오늘 날짜를 숫자만 8자리로 작성해주세요 : \\n ex) 2022/03/29 ')\n",
    "\n",
    "if '/' in date:                       # 조건문 사용시 True일 경우  발동\n",
    "    if date.count('/') == 2:          # date의 내용중 /를 카운트하여 2개가 맞을경우 실행\n",
    "        a,b,c = date.split(\"/\")\n",
    "        print(\"날짜(연/월/일) 입력 : %s/%s/%s\"%(a,b,c))\n",
    "        d = int(a) + 10\n",
    "        print(\"입력한 날짜의 10년 후는 %s/%s/%s\"%(d,b,c))\n",
    "    else:                             # /개수를 확인해주세요\n",
    "        print(\"/를 확인해보세요\")\n",
    "else:                                 # / 조건문을 확인하세요\n",
    "    print(\"다시 실행하세요\") \n"
   ]
  },
  {
   "cell_type": "code",
   "execution_count": null,
   "id": "334ea73e",
   "metadata": {},
   "outputs": [],
   "source": []
  }
 ],
 "metadata": {
  "kernelspec": {
   "display_name": "Python 3 (ipykernel)",
   "language": "python",
   "name": "python3"
  },
  "language_info": {
   "codemirror_mode": {
    "name": "ipython",
    "version": 3
   },
   "file_extension": ".py",
   "mimetype": "text/x-python",
   "name": "python",
   "nbconvert_exporter": "python",
   "pygments_lexer": "ipython3",
   "version": "3.9.7"
  }
 },
 "nbformat": 4,
 "nbformat_minor": 5
}
