{
 "cells": [
  {
   "cell_type": "code",
   "execution_count": 46,
   "id": "9535e2fc",
   "metadata": {},
   "outputs": [
    {
     "name": "stdout",
     "output_type": "stream",
     "text": [
      "[1.5, 1.5] [7.5, 5.5] [4.140000000000001, 2.72]\n"
     ]
    }
   ],
   "source": [
    "#실습 4번\n",
    "#1개 이상의 2차원 벡터들을 전달받아 벡터들의 합을 구하여 반환하는 함수를 작성하시오.\n",
    "def vec_sum(ve,*ves):\n",
    "    c=ve[0] \n",
    "    d=ve[1]\n",
    "#     add = []\n",
    "    for x in ves:    \n",
    "        c = c + x[0]\n",
    "#     print(c)\n",
    "#     add.append(c)    \n",
    "    for y in ves:\n",
    "        d = d+y[1]\n",
    "#     print(d)\n",
    "#     add.append(d)\n",
    "    return [c,d]\n",
    "\n",
    "#     print(type(ve))\n",
    "#     print(vd_li)\n",
    "\n",
    "v1=[0, 1]\n",
    "v2=[0.5, 0.5]\n",
    "v3=[1, 0]\n",
    "v4=[6, 4]\n",
    "v5=[3.14 , 2.72]\n",
    "m1 = vec_sum(v1, v2, v3)\n",
    "m2 = vec_sum(v1, v2, v3, v4)\n",
    "m3 = vec_sum(v3, v5)\n",
    "# a=[1,2]\n",
    "\n",
    "# print(a)\n",
    "print(m1,m2,m3)"
   ]
  },
  {
   "cell_type": "code",
   "execution_count": 39,
   "id": "ea3d941c",
   "metadata": {},
   "outputs": [
    {
     "name": "stdout",
     "output_type": "stream",
     "text": [
      "[1.5, 1.5, 6] [7.5, 5.5, 6] [4.140000000000001, 2.72, 3]\n"
     ]
    }
   ],
   "source": [
    "def vec_sum(ve,*ves):\n",
    "    a = ve[0]\n",
    "    b = ve[1]\n",
    "    c = ve[2]\n",
    "    for x in ves:\n",
    "        a = a + x[0]\n",
    "    for y in ves:\n",
    "        b = b + y[1]\n",
    "    for z in ves:\n",
    "        if c != len(z):\n",
    "            continue\n",
    "        c = c + z[2]\n",
    "    return [a,b,c]\n",
    "\n",
    "\n",
    "v1=[0, 1,3]\n",
    "v2=[0.5, 0.5]\n",
    "v3=[1, 0,3]\n",
    "v4=[6, 4,4]\n",
    "v5=[3.14 , 2.72]\n",
    "m1 = vec_sum(v1, v2, v3)\n",
    "m2 = vec_sum(v1, v2, v3, v4)\n",
    "m3 = vec_sum(v3, v5)\n",
    "print(m1,m2,m3)"
   ]
  },
  {
   "cell_type": "code",
   "execution_count": 47,
   "id": "41f24d00",
   "metadata": {},
   "outputs": [
    {
     "name": "stdout",
     "output_type": "stream",
     "text": [
      "[1, 1, 2, 2, 3, 5, 9]\n",
      "[0, 4, 6, 9]\n",
      "[0, 0]\n"
     ]
    }
   ],
   "source": [
    "#실습 5번\n",
    "#숫자로 구성된 리스트 2개를 받아서 이 두 리스트를 합친 후에 정렬한 새로운 리스트를 반환하는 함수를 작성하시오.\n",
    "#단, 매개변수의 값이 주어지지 않으면, [0]이 기본적으로 주어진다.\n",
    "\n",
    "def merge_list(a=[0],b=[0]):  #함수 매개변수를 받았을 때, 인자형식과 다를경우 자리에 0대입.\n",
    "    c = []\n",
    "    c = a + b\n",
    "    return sorted(c)\n",
    "    \n",
    "l= [3, 5, 9, 1, 2]\n",
    "ml1 = merge_list(l,[2,1])\n",
    "ml2 = merge_list([6,9,4])\n",
    "ml3 = merge_list()\n",
    "print(ml1) # [1, 1, 2, 2, 3, 5, 9]\n",
    "print(ml2) # [0, 4, 6, 9]\n",
    "print(ml3) # [0, 0]\n",
    "\n"
   ]
  },
  {
   "cell_type": "code",
   "execution_count": 48,
   "id": "b092b014",
   "metadata": {},
   "outputs": [
    {
     "name": "stdout",
     "output_type": "stream",
     "text": [
      "1 번째 자동 기입 ==> 2 11 16 22 33 44\n",
      "2 번째 자동 기입 ==> 10 21 23 33 35 42\n",
      "3 번째 자동 기입 ==> 2 8 17 29 34 42\n",
      "4 번째 자동 기입 ==> 5 10 17 31 34 41\n",
      "5 번째 자동 기입 ==> 12 25 29 35 38 45\n"
     ]
    }
   ],
   "source": [
    "#실습 6번문제 \n",
    "#로또 번호 자동 기입 프로그램\n",
    " #5개의 로또 번호 조합을 출력해주는 프로그램을 작성\n",
    " #매번 1~45 숫자 중 6개를 임의로 선택 후 정렬하여 출력\n",
    " #각 줄은 중복된 번호를 가질 수 없음\n",
    "import random as rd\n",
    "\n",
    "for a in range(1,6):\n",
    "    lt = rd.sample(range(1,46),6)\n",
    "    lt.sort()\n",
    "    print('%d 번째 자동 기입 ==> '%a,end=''), print(*lt)"
   ]
  },
  {
   "cell_type": "code",
   "execution_count": 49,
   "id": "0949630d",
   "metadata": {},
   "outputs": [],
   "source": [
    "#실습 7번 문제\n",
    "#숫자로 구성된 리스트를 전달받아 최대값, 최소값을 반환하고,\n",
    "# 두수를 리스트에서 제거하는 함수를 작성하시오.\n",
    "# 단, 리스트에 원소는 2개 이상 존재한다고 가정\n",
    "\n",
    "def get_min_max(l):\n",
    "    mal = max(l)\n",
    "    mil = min(l)\n",
    "    a = []\n",
    "    cnt = 0\n",
    "    for x in l:\n",
    "        if mal == x:\n",
    "            del l[cnt]\n",
    "            continue \n",
    "        if mil == x:\n",
    "            del l[cnt]\n",
    "            continue\n",
    "        a.append(x)\n",
    "        cnt = cnt +1\n",
    "#     print(a)\n",
    "#     l = a\n",
    "    return mal,mil,a\n",
    "\n",
    "# num = [1,2,3,4,5,6,7,9,9,9,9,8,8,8,7,4,5,8,1,1,1,1]\n",
    "# min_val, max_val = get_min_max(num)\n",
    "# print(min_val)\n",
    "# print(max_val)\n",
    "# print(num)"
   ]
  },
  {
   "cell_type": "code",
   "execution_count": 50,
   "id": "07a1e569",
   "metadata": {},
   "outputs": [
    {
     "name": "stdout",
     "output_type": "stream",
     "text": [
      "9\n",
      "1\n",
      "[3, 4, 5, 6, 7, 8, 8, 8, 7, 4, 5, 8]\n"
     ]
    }
   ],
   "source": [
    "num = [1,2,3,4,5,6,7,9,9,9,9,8,8,8,7,4,5,8,1,1,1,1]\n",
    "min_val, max_val, num = get_min_max(num)\n",
    "print(min_val)\n",
    "print(max_val)\n",
    "print(num)"
   ]
  },
  {
   "cell_type": "code",
   "execution_count": 57,
   "id": "6d1a2250",
   "metadata": {},
   "outputs": [
    {
     "name": "stdout",
     "output_type": "stream",
     "text": [
      "{'a': 3, 'b': 3, 'd': 7, 'e': 9, 'f': 14, 'c': 4}\n"
     ]
    }
   ],
   "source": [
    "#실습 8번 문제\n",
    "def comb_dict(d1,d2):\n",
    "    d3 = dict()\n",
    "    for x in d1 :\n",
    "        if x in d2:\n",
    "#             print(x)\n",
    "            d3[x] = d1[x] + d2[x]\n",
    "        else :\n",
    "            d3[x] = d1[x]\n",
    "    for y in d2:\n",
    "        if y in d1:\n",
    "            continue\n",
    "        else:\n",
    "            d3[y] = d2[y]\n",
    "#     print(d3) \n",
    "    return d3\n",
    "\n",
    "d1 = {'a': 1, 'b': 3, 'd': 7, 'e': 8,'f':14}\n",
    "d2 = {'a': 2, 'c': 4, 'e': 1}\n",
    "d3 = comb_dict(d1, d2)\n",
    "print(d3)"
   ]
  },
  {
   "cell_type": "code",
   "execution_count": 58,
   "id": "2a9128e4",
   "metadata": {},
   "outputs": [],
   "source": [
    "#실습 9 함수\n",
    "def diff(a,*b):\n",
    "    if b == ():\n",
    "        print(\"오류발생\")\n",
    "    else:\n",
    "        c = [a]\n",
    "        for x in b:\n",
    "            c.append(x)\n",
    "        h = max(c)-min(c)\n",
    "        return h\n",
    "    "
   ]
  },
  {
   "cell_type": "code",
   "execution_count": 59,
   "id": "6650b962",
   "metadata": {},
   "outputs": [
    {
     "name": "stdout",
     "output_type": "stream",
     "text": [
      "1번 4\n",
      "2번 300\n",
      "오류발생\n"
     ]
    },
    {
     "data": {
      "text/plain": [
       "0"
      ]
     },
     "execution_count": 59,
     "metadata": {},
     "output_type": "execute_result"
    }
   ],
   "source": [
    "#실습 9 실행파일\n",
    "print('1번',diff(1,2,3,4,5))\n",
    "print('2번',diff(-100,200))\n",
    "diff(1)\n",
    "diff(1,1)"
   ]
  }
 ],
 "metadata": {
  "kernelspec": {
   "display_name": "Python 3 (ipykernel)",
   "language": "python",
   "name": "python3"
  },
  "language_info": {
   "codemirror_mode": {
    "name": "ipython",
    "version": 3
   },
   "file_extension": ".py",
   "mimetype": "text/x-python",
   "name": "python",
   "nbconvert_exporter": "python",
   "pygments_lexer": "ipython3",
   "version": "3.9.7"
  }
 },
 "nbformat": 4,
 "nbformat_minor": 5
}
