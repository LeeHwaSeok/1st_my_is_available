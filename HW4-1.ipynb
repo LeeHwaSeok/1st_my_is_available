{
 "cells": [
  {
   "cell_type": "code",
   "execution_count": 189,
   "id": "bbc2a127",
   "metadata": {},
   "outputs": [
    {
     "name": "stdout",
     "output_type": "stream",
     "text": [
      "first line \n",
      "\n",
      "second line \n",
      "\n",
      "third line\n",
      "('line', 3)\n",
      "('first', 1)\n",
      "('second', 1)\n",
      "('third', 1)\n"
     ]
    }
   ],
   "source": [
    "# 실습1) – PPT 자료\n",
    "# 파일에 있는 각각의 단어 수 구하기\n",
    "# <test.txt>\n",
    "# first line\n",
    "# second line\n",
    "# third line\n",
    "\n",
    "# 실습을 위한 파일 만들기\n",
    "f = open('test.txt','w')\n",
    "f.write(\"first line \\nsecond line \\nthird line\")\n",
    "f.close()\n",
    "\n",
    "f = open('test.txt','r')\n",
    "for x in f:\n",
    "    print(x)\n",
    "f.close()\n",
    "\n",
    "\n",
    "f = open('test.txt','r')             #test file read\n",
    "fr = f.read().split()                #fr은 읽은 파일을 공백 단위로 끊어 리스트 저장\n",
    "#print(fr) #fr 확인용\n",
    "rank={}                              #딕셔너리 선언\n",
    "\n",
    "for x in fr :                        #fr에 선언된 요소들을 반복\n",
    "    #print(x)                        #x확인용\n",
    "    if x in rank :                   #rank에 x요소 체크\n",
    "        rank[x] = rank[x] + 1        #밸류 값 증가\n",
    "    else :\n",
    "        rank[x] = 1                  #없으면 밸류는 1\n",
    "        \n",
    "srank = sorted(rank.items(), key = lambda x : x[1], reverse = True)\n",
    "\n",
    "#rank를 정렬시키는데, lambda 함수를 이용 key를 x[1]인 value 값으로 정렬했다. / reverse = True로 높은숫자 > 작은숫자로 정렬\n",
    "for x in srank:\n",
    "    print(x)\n",
    "f.close()"
   ]
  },
  {
   "cell_type": "code",
   "execution_count": 188,
   "id": "0347511b",
   "metadata": {},
   "outputs": [
    {
     "name": "stdout",
     "output_type": "stream",
     "text": [
      "파일명을 확장자까지 입력하세요. ex) test.txtㅁ\n",
      "파일이 존재하지 않습니다.\n"
     ]
    }
   ],
   "source": [
    "# 실습2) – PPT 자료파일명을 입력 받아, 해당 파일을 한 줄씩 읽어 파일의 내용을 모두 대문자로 출력하는 프로그램을 작성하시오.\n",
    "# 단, 파일이 없는 경우 “파일이 존재하지 않는다\" 정도의 메시지를 출력할 것!\n",
    "\n",
    "import os                \n",
    "name = input('파일명을 확장자까지 입력하세요. ex) test.txt')\n",
    "\n",
    "if os.path.exists(name) :    #os.path.exists는 파일 존재여부 확인\n",
    "    f = open('test.txt','r')\n",
    "    x = f.read().upper()     #upper로 대문자로 출력\n",
    "    print(x)\n",
    "    f.close()\n",
    "else : \n",
    "    print('파일이 존재하지 않습니다.')"
   ]
  },
  {
   "cell_type": "code",
   "execution_count": 187,
   "id": "c65a50e8",
   "metadata": {},
   "outputs": [
    {
     "name": "stdout",
     "output_type": "stream",
     "text": [
      "exists\n"
     ]
    }
   ],
   "source": [
    "# 실습3) 아래의 실행예시처럼 리눅스 쉘에서 원본파일명(src.txt)과 사본파일(dst.txt)을 입력 받아, 복사하는 프로그램을 작성하시오.\n",
    "\n",
    "import os\n",
    "import shutil\n",
    "\n",
    "shutil.copy(\"/home/piai/test/test2/python ex3.py src.txt\", \"/home/piai/test/test2/python ex3.py dst.txt\")\n",
    "#shutil.copy(src, des)는 인자로 전달된 src 경로의 파일을 des 경로로 복사합니다.\n",
    "if os.path.exists(\"/home/piai/test/test2/python ex3.py src.txt\"):\n",
    "    print(\"exists\")\n",
    "#경로의 파일이 존재할경우 존재여부를 안내"
   ]
  },
  {
   "cell_type": "code",
   "execution_count": 1,
   "id": "5f7a5485",
   "metadata": {},
   "outputs": [],
   "source": [
    "# 실습4) 아래의 score.txt를 읽어서 학생들의 성적을 처리하여 그 결과를 report.txt로 출력하는 프로그램을 작성하시오\n",
    "# (총점) 중간고사 40%, 기말고사 60%\n",
    "\n",
    "# (학점기준)\n",
    "\n",
    "# 총점이 90이상이면 A,\n",
    "\n",
    "# 80이상 ~ 90미만이면 B\n",
    "\n",
    "# 70이상 ~ 80미만이면 C\n",
    "\n",
    "# 60이상 ~ 70미만이면 D\n",
    "\n",
    "# 60미만이면 F\n",
    "\n",
    "#실습 파일 생성\n",
    "f = open(\"score.txt\",'w')\n",
    "f.write('201901 89 78 \\n201902 76 84 \\n201903 67 42 \\n201904 66 88 \\n201905 98 99 \\n202201 100 99')\n",
    "f.close()\n",
    "#\n",
    "\n",
    "f = open(\"score.txt\",'r')\n",
    "f1 = open(\"report.txt\",'w')    \n",
    "#open,r 과 open,w를 동시에 사용해서 읽기와 쓰기를 동시에 진행\n",
    "\n",
    "for x in f:\n",
    "    name, mt, ft=map(int,x.split())  \n",
    "    # 맨 윗자리는 x.split = 201901 89 78  \n",
    "    # 잘려진 숫자를 문자 -> 정수로 변환 // name, mt, ft에 개별 분담    \n",
    "    \n",
    "    total = mt*0.4 + ft*0.6          #가중치를 적용하여 total 계산\n",
    "    \n",
    "    if total >= 90 :\n",
    "        f1.write(\"{:6}{:6}{:6}{:8.1f}(A)\\n\".\n",
    "              format(name, mt, ft, total))\n",
    "    elif total >=80:\n",
    "        f1.write(\"{:6}{:6}{:6}{:8.1f}(B)\\n\".\n",
    "              format(name, mt, ft, total))\n",
    "    elif total >=70:\n",
    "        f1.write(\"{:6}{:6}{:6}{:8.1f}(C)\\n\".\n",
    "              format(name, mt, ft, total))\n",
    "    elif total >=60:\n",
    "        f1.write(\"{:6}{:6}{:6}{:8.1f}(D)\\n\".\n",
    "              format(name, mt, ft, total))\n",
    "    else:\n",
    "        f1.write(\"{:6}{:6}{:6}{:8.1f}(F)\\n\".\n",
    "              format(name, mt, ft, total))\n",
    "        \n",
    "# ('{}{}'.format(변수,변수,변수,~)) 형식으로 표현 \n",
    "#'{a:b}'.format(val1,val2,val3,~) a= 1/ a=0,1,2는 포맷내 위치 / b는 자리차지 이후 오른쪽 정렬\n",
    "        \n",
    "f1.close()\n",
    "f.close()"
   ]
  },
  {
   "cell_type": "code",
   "execution_count": 184,
   "id": "4ef37c5b",
   "metadata": {},
   "outputs": [
    {
     "name": "stdout",
     "output_type": "stream",
     "text": [
      "a 카운팅 6\n",
      "a 카운팅 14\n"
     ]
    }
   ],
   "source": [
    "#함수 실습1\n",
    "def my_len(a):\n",
    "    cnt = 0\n",
    "    for x in a:\n",
    "        cnt = cnt +1\n",
    "    return cnt\n",
    "\n",
    "a = [5,5,6,7,8,3]\n",
    "b = 'Life is short.'\n",
    "\n",
    "print('a 카운팅 %d'%my_len(a))\n",
    "print('a 카운팅 %d'%my_len(b))\n",
    "#코드가 작아지고 가독성이 좋음"
   ]
  },
  {
   "cell_type": "code",
   "execution_count": 183,
   "id": "005ea2ab",
   "metadata": {},
   "outputs": [
    {
     "name": "stdout",
     "output_type": "stream",
     "text": [
      "6\n",
      "120\n"
     ]
    }
   ],
   "source": [
    "#함수 실습2\n",
    "def mult(a,b) :\n",
    "    c = 1\n",
    "    if b>a and (a>0 and b>0):\n",
    "        for x in range(a,b+1):\n",
    "            c = c * x\n",
    "        print(c)\n",
    "    else:\n",
    "        print(b)\n",
    "mult(1,3)\n",
    "mult(2,5)"
   ]
  },
  {
   "cell_type": "code",
   "execution_count": 182,
   "id": "e9265d6a",
   "metadata": {},
   "outputs": [
    {
     "name": "stdout",
     "output_type": "stream",
     "text": [
      "7 -9\n",
      "1 -1\n",
      "9 -17\n"
     ]
    }
   ],
   "source": [
    "#함수실습 3\n",
    "def sum_pos_neg(l):\n",
    "    s = 0\n",
    "    s1 = 0\n",
    "    for x in l :\n",
    "        if x > 0 :\n",
    "            s = s + x\n",
    "        else :\n",
    "            s1 = s1 - x\n",
    "    return s,-s1\n",
    "\n",
    "negsum,possum = sum_pos_neg([3,4,-6,-3])\n",
    "print(negsum,possum) # 7 -9\n",
    "#\n",
    "\n",
    "mylist=[0,0,0,0,0,0,0,0,0,1,-1]\n",
    "a,b = sum_pos_neg(mylist)\n",
    "print(a,b) \n",
    "#리스트 형식\n",
    "\n",
    "l = [3,4,-6,-3,-3,-4,2,-1]\n",
    "neg1, neg2 = sum_pos_neg(l)\n",
    "print(neg1,neg2)\n",
    "#"
   ]
  }
 ],
 "metadata": {
  "kernelspec": {
   "display_name": "Python 3 (ipykernel)",
   "language": "python",
   "name": "python3"
  },
  "language_info": {
   "codemirror_mode": {
    "name": "ipython",
    "version": 3
   },
   "file_extension": ".py",
   "mimetype": "text/x-python",
   "name": "python",
   "nbconvert_exporter": "python",
   "pygments_lexer": "ipython3",
   "version": "3.9.7"
  }
 },
 "nbformat": 4,
 "nbformat_minor": 5
}
